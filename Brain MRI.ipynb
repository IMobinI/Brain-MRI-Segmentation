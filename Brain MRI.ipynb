{
 "cells": [
  {
   "cell_type": "code",
   "execution_count": 1,
   "id": "9f7165c8",
   "metadata": {},
   "outputs": [],
   "source": [
    "import sys\n",
    "import os\n",
    "import glob\n",
    "import random\n",
    "import time\n",
    "\n",
    "import numpy as np\n",
    "import pandas as pd\n",
    "\n",
    "import cv2\n",
    "import matplotlib.pyplot as plt\n",
    "from mpl_toolkits.axes_grid1 import ImageGrid"
   ]
  },
  {
   "cell_type": "code",
   "execution_count": 2,
   "id": "bff8ddaf",
   "metadata": {},
   "outputs": [],
   "source": [
    "# Path to all data\n",
    "DATA_PATH = \"Dataset/\"\n",
    "\n",
    "# img size\n",
    "IMG_SIZE = 512"
   ]
  },
  {
   "cell_type": "code",
   "execution_count": 3,
   "id": "cb614629",
   "metadata": {},
   "outputs": [
    {
     "name": "stdout",
     "output_type": "stream",
     "text": [
      "This is not a dir: Dataset\\data.csv\n",
      "This is not a dir: Dataset\\README.md\n"
     ]
    },
    {
     "data": {
      "text/html": [
       "<div>\n",
       "<style scoped>\n",
       "    .dataframe tbody tr th:only-of-type {\n",
       "        vertical-align: middle;\n",
       "    }\n",
       "\n",
       "    .dataframe tbody tr th {\n",
       "        vertical-align: top;\n",
       "    }\n",
       "\n",
       "    .dataframe thead th {\n",
       "        text-align: right;\n",
       "    }\n",
       "</style>\n",
       "<table border=\"1\" class=\"dataframe\">\n",
       "  <thead>\n",
       "    <tr style=\"text-align: right;\">\n",
       "      <th></th>\n",
       "      <th>path</th>\n",
       "    </tr>\n",
       "  </thead>\n",
       "  <tbody>\n",
       "    <tr>\n",
       "      <th>0</th>\n",
       "      <td>Dataset\\TCGA_CS_4941_19960909/TCGA_CS_4941_19960909_1.tif</td>\n",
       "    </tr>\n",
       "    <tr>\n",
       "      <th>1</th>\n",
       "      <td>Dataset\\TCGA_CS_4941_19960909/TCGA_CS_4941_19960909_10.tif</td>\n",
       "    </tr>\n",
       "    <tr>\n",
       "      <th>2</th>\n",
       "      <td>Dataset\\TCGA_CS_4941_19960909/TCGA_CS_4941_19960909_10_mask.tif</td>\n",
       "    </tr>\n",
       "    <tr>\n",
       "      <th>3</th>\n",
       "      <td>Dataset\\TCGA_CS_4941_19960909/TCGA_CS_4941_19960909_11.tif</td>\n",
       "    </tr>\n",
       "    <tr>\n",
       "      <th>4</th>\n",
       "      <td>Dataset\\TCGA_CS_4941_19960909/TCGA_CS_4941_19960909_11_mask.tif</td>\n",
       "    </tr>\n",
       "  </tbody>\n",
       "</table>\n",
       "</div>"
      ],
      "text/plain": [
       "                                                              path\n",
       "0        Dataset\\TCGA_CS_4941_19960909/TCGA_CS_4941_19960909_1.tif\n",
       "1       Dataset\\TCGA_CS_4941_19960909/TCGA_CS_4941_19960909_10.tif\n",
       "2  Dataset\\TCGA_CS_4941_19960909/TCGA_CS_4941_19960909_10_mask.tif\n",
       "3       Dataset\\TCGA_CS_4941_19960909/TCGA_CS_4941_19960909_11.tif\n",
       "4  Dataset\\TCGA_CS_4941_19960909/TCGA_CS_4941_19960909_11_mask.tif"
      ]
     },
     "execution_count": 3,
     "metadata": {},
     "output_type": "execute_result"
    }
   ],
   "source": [
    "data_path = []\n",
    "for sub_dir_path in glob.glob(DATA_PATH+\"*\"):\n",
    "    if os.path.isdir(sub_dir_path):\n",
    "        dirname = sub_dir_path.split(\"/\")[-1]\n",
    "        for filename in os.listdir(sub_dir_path):\n",
    "            image_path = sub_dir_path + \"/\" + filename\n",
    "            data_path.extend([image_path])\n",
    "    else:\n",
    "        print(\"This is not a dir:\", sub_dir_path)\n",
    "        \n",
    "df = pd.DataFrame({\"path\" : data_path})\n",
    "\n",
    "length = df['path'].apply(lambda x: len(x)).max()\n",
    "pd.options.display.max_colwidth = length+4\n",
    "\n",
    "df.head()"
   ]
  },
  {
   "cell_type": "code",
   "execution_count": 4,
   "id": "544d4507",
   "metadata": {},
   "outputs": [
    {
     "name": "stdout",
     "output_type": "stream",
     "text": [
      "Path to the Image: Dataset\\TCGA_DU_5855_19951217/TCGA_DU_5855_19951217_25.tif \n",
      "Path to the Mask: Dataset\\TCGA_DU_5855_19951217/TCGA_DU_5855_19951217_25_mask.tif\n"
     ]
    }
   ],
   "source": [
    "# Masks/Not masks\n",
    "images = df[~df['path'].str.contains(\"mask\")]['path'].reset_index(drop=True)\n",
    "masks = df[df['path'].str.contains(\"mask\")]['path'].reset_index(drop=True)\n",
    "\n",
    "# Data sorting\n",
    "images = sorted(images, key=lambda x : int(x[52:-4])) # Dataset\\TCGA_CS_4941_19960909/TCGA_CS_4941_19960909_ ->...<- .tif\n",
    "masks = sorted(masks, key=lambda x : int(x[52:-9])) # Dataset\\TCGA_CS_4941_19960909/TCGA_CS_4941_19960909_ ->...<- _mask.tif\n",
    "\n",
    "# Sorting check\n",
    "idx = random.randint(0, len(images)-1)\n",
    "print(f\"Path to the Image: {images[idx]} \\nPath to the Mask: {masks[idx]}\")"
   ]
  },
  {
   "cell_type": "code",
   "execution_count": 5,
   "id": "67c43045",
   "metadata": {},
   "outputs": [
    {
     "data": {
      "text/html": [
       "<div>\n",
       "<style scoped>\n",
       "    .dataframe tbody tr th:only-of-type {\n",
       "        vertical-align: middle;\n",
       "    }\n",
       "\n",
       "    .dataframe tbody tr th {\n",
       "        vertical-align: top;\n",
       "    }\n",
       "\n",
       "    .dataframe thead th {\n",
       "        text-align: right;\n",
       "    }\n",
       "</style>\n",
       "<table border=\"1\" class=\"dataframe\">\n",
       "  <thead>\n",
       "    <tr style=\"text-align: right;\">\n",
       "      <th></th>\n",
       "      <th>image_path</th>\n",
       "      <th>mask_path</th>\n",
       "    </tr>\n",
       "  </thead>\n",
       "  <tbody>\n",
       "    <tr>\n",
       "      <th>0</th>\n",
       "      <td>Dataset\\TCGA_CS_4941_19960909/TCGA_CS_4941_19960909_1.tif</td>\n",
       "      <td>Dataset\\TCGA_CS_4941_19960909/TCGA_CS_4941_19960909_1_mask.tif</td>\n",
       "    </tr>\n",
       "    <tr>\n",
       "      <th>1</th>\n",
       "      <td>Dataset\\TCGA_CS_4942_19970222/TCGA_CS_4942_19970222_1.tif</td>\n",
       "      <td>Dataset\\TCGA_CS_4942_19970222/TCGA_CS_4942_19970222_1_mask.tif</td>\n",
       "    </tr>\n",
       "    <tr>\n",
       "      <th>2</th>\n",
       "      <td>Dataset\\TCGA_CS_4943_20000902/TCGA_CS_4943_20000902_1.tif</td>\n",
       "      <td>Dataset\\TCGA_CS_4943_20000902/TCGA_CS_4943_20000902_1_mask.tif</td>\n",
       "    </tr>\n",
       "    <tr>\n",
       "      <th>3</th>\n",
       "      <td>Dataset\\TCGA_CS_4944_20010208/TCGA_CS_4944_20010208_1.tif</td>\n",
       "      <td>Dataset\\TCGA_CS_4944_20010208/TCGA_CS_4944_20010208_1_mask.tif</td>\n",
       "    </tr>\n",
       "    <tr>\n",
       "      <th>4</th>\n",
       "      <td>Dataset\\TCGA_CS_5393_19990606/TCGA_CS_5393_19990606_1.tif</td>\n",
       "      <td>Dataset\\TCGA_CS_5393_19990606/TCGA_CS_5393_19990606_1_mask.tif</td>\n",
       "    </tr>\n",
       "    <tr>\n",
       "      <th>...</th>\n",
       "      <td>...</td>\n",
       "      <td>...</td>\n",
       "    </tr>\n",
       "    <tr>\n",
       "      <th>3924</th>\n",
       "      <td>Dataset\\TCGA_HT_A61B_19991127/TCGA_HT_A61B_19991127_86.tif</td>\n",
       "      <td>Dataset\\TCGA_HT_A61B_19991127/TCGA_HT_A61B_19991127_86_mask.tif</td>\n",
       "    </tr>\n",
       "    <tr>\n",
       "      <th>3925</th>\n",
       "      <td>Dataset\\TCGA_HT_A61A_20000127/TCGA_HT_A61A_20000127_87.tif</td>\n",
       "      <td>Dataset\\TCGA_HT_A61A_20000127/TCGA_HT_A61A_20000127_87_mask.tif</td>\n",
       "    </tr>\n",
       "    <tr>\n",
       "      <th>3926</th>\n",
       "      <td>Dataset\\TCGA_HT_A61B_19991127/TCGA_HT_A61B_19991127_87.tif</td>\n",
       "      <td>Dataset\\TCGA_HT_A61B_19991127/TCGA_HT_A61B_19991127_87_mask.tif</td>\n",
       "    </tr>\n",
       "    <tr>\n",
       "      <th>3927</th>\n",
       "      <td>Dataset\\TCGA_HT_A61A_20000127/TCGA_HT_A61A_20000127_88.tif</td>\n",
       "      <td>Dataset\\TCGA_HT_A61A_20000127/TCGA_HT_A61A_20000127_88_mask.tif</td>\n",
       "    </tr>\n",
       "    <tr>\n",
       "      <th>3928</th>\n",
       "      <td>Dataset\\TCGA_HT_A61B_19991127/TCGA_HT_A61B_19991127_88.tif</td>\n",
       "      <td>Dataset\\TCGA_HT_A61B_19991127/TCGA_HT_A61B_19991127_88_mask.tif</td>\n",
       "    </tr>\n",
       "  </tbody>\n",
       "</table>\n",
       "<p>3929 rows × 2 columns</p>\n",
       "</div>"
      ],
      "text/plain": [
       "                                                      image_path  \\\n",
       "0      Dataset\\TCGA_CS_4941_19960909/TCGA_CS_4941_19960909_1.tif   \n",
       "1      Dataset\\TCGA_CS_4942_19970222/TCGA_CS_4942_19970222_1.tif   \n",
       "2      Dataset\\TCGA_CS_4943_20000902/TCGA_CS_4943_20000902_1.tif   \n",
       "3      Dataset\\TCGA_CS_4944_20010208/TCGA_CS_4944_20010208_1.tif   \n",
       "4      Dataset\\TCGA_CS_5393_19990606/TCGA_CS_5393_19990606_1.tif   \n",
       "...                                                          ...   \n",
       "3924  Dataset\\TCGA_HT_A61B_19991127/TCGA_HT_A61B_19991127_86.tif   \n",
       "3925  Dataset\\TCGA_HT_A61A_20000127/TCGA_HT_A61A_20000127_87.tif   \n",
       "3926  Dataset\\TCGA_HT_A61B_19991127/TCGA_HT_A61B_19991127_87.tif   \n",
       "3927  Dataset\\TCGA_HT_A61A_20000127/TCGA_HT_A61A_20000127_88.tif   \n",
       "3928  Dataset\\TCGA_HT_A61B_19991127/TCGA_HT_A61B_19991127_88.tif   \n",
       "\n",
       "                                                            mask_path  \n",
       "0      Dataset\\TCGA_CS_4941_19960909/TCGA_CS_4941_19960909_1_mask.tif  \n",
       "1      Dataset\\TCGA_CS_4942_19970222/TCGA_CS_4942_19970222_1_mask.tif  \n",
       "2      Dataset\\TCGA_CS_4943_20000902/TCGA_CS_4943_20000902_1_mask.tif  \n",
       "3      Dataset\\TCGA_CS_4944_20010208/TCGA_CS_4944_20010208_1_mask.tif  \n",
       "4      Dataset\\TCGA_CS_5393_19990606/TCGA_CS_5393_19990606_1_mask.tif  \n",
       "...                                                               ...  \n",
       "3924  Dataset\\TCGA_HT_A61B_19991127/TCGA_HT_A61B_19991127_86_mask.tif  \n",
       "3925  Dataset\\TCGA_HT_A61A_20000127/TCGA_HT_A61A_20000127_87_mask.tif  \n",
       "3926  Dataset\\TCGA_HT_A61B_19991127/TCGA_HT_A61B_19991127_87_mask.tif  \n",
       "3927  Dataset\\TCGA_HT_A61A_20000127/TCGA_HT_A61A_20000127_88_mask.tif  \n",
       "3928  Dataset\\TCGA_HT_A61B_19991127/TCGA_HT_A61B_19991127_88_mask.tif  \n",
       "\n",
       "[3929 rows x 2 columns]"
      ]
     },
     "execution_count": 5,
     "metadata": {},
     "output_type": "execute_result"
    }
   ],
   "source": [
    "df = pd.DataFrame({\"image_path\" : images,\n",
    "                   \"mask_path\" : masks})\n",
    "df"
   ]
  },
  {
   "cell_type": "code",
   "execution_count": 6,
   "id": "9476cc08",
   "metadata": {},
   "outputs": [
    {
     "data": {
      "text/plain": [
       "<matplotlib.image.AxesImage at 0x27d8b3422e0>"
      ]
     },
     "execution_count": 6,
     "metadata": {},
     "output_type": "execute_result"
    },
    {
     "data": {
      "image/png": "[encoded data removed]",
      "text/plain": [
       "<Figure size 720x360 with 2 Axes>"
      ]
     },
     "metadata": {
      "needs_background": "light"
     },
     "output_type": "display_data"
    }
   ],
   "source": [
    "idx = random.randint(0, len(images)-1)\n",
    "image = cv2.imread(df.image_path[idx])\n",
    "image = cv2.cvtColor(image, cv2.COLOR_BGR2RGB)\n",
    "mask = cv2.imread(df.mask_path[idx])\n",
    "\n",
    "f, (ax1, ax2) = plt.subplots(1, 2, figsize=(10,5))\n",
    "\n",
    "ax1.set_title('IMAGE')\n",
    "ax1.imshow(image)\n",
    "\n",
    "ax2.set_title('MASK')\n",
    "ax2.imshow(mask)"
   ]
  },
  {
   "cell_type": "markdown",
   "id": "3f963e20",
   "metadata": {},
   "source": [
    "If the value of the mask is greater than 0 (Black), then the patient has a abnormality tumor!"
   ]
  },
  {
   "cell_type": "code",
   "execution_count": 7,
   "id": "e1c1abae",
   "metadata": {},
   "outputs": [
    {
     "data": {
      "text/html": [
       "<div>\n",
       "<style scoped>\n",
       "    .dataframe tbody tr th:only-of-type {\n",
       "        vertical-align: middle;\n",
       "    }\n",
       "\n",
       "    .dataframe tbody tr th {\n",
       "        vertical-align: top;\n",
       "    }\n",
       "\n",
       "    .dataframe thead th {\n",
       "        text-align: right;\n",
       "    }\n",
       "</style>\n",
       "<table border=\"1\" class=\"dataframe\">\n",
       "  <thead>\n",
       "    <tr style=\"text-align: right;\">\n",
       "      <th></th>\n",
       "      <th>image_path</th>\n",
       "      <th>mask_path</th>\n",
       "      <th>diagnosis</th>\n",
       "    </tr>\n",
       "  </thead>\n",
       "  <tbody>\n",
       "    <tr>\n",
       "      <th>0</th>\n",
       "      <td>Dataset\\TCGA_CS_4941_19960909/TCGA_CS_4941_19960909_1.tif</td>\n",
       "      <td>Dataset\\TCGA_CS_4941_19960909/TCGA_CS_4941_19960909_1_mask.tif</td>\n",
       "      <td>0</td>\n",
       "    </tr>\n",
       "    <tr>\n",
       "      <th>1</th>\n",
       "      <td>Dataset\\TCGA_CS_4942_19970222/TCGA_CS_4942_19970222_1.tif</td>\n",
       "      <td>Dataset\\TCGA_CS_4942_19970222/TCGA_CS_4942_19970222_1_mask.tif</td>\n",
       "      <td>0</td>\n",
       "    </tr>\n",
       "    <tr>\n",
       "      <th>2</th>\n",
       "      <td>Dataset\\TCGA_CS_4943_20000902/TCGA_CS_4943_20000902_1.tif</td>\n",
       "      <td>Dataset\\TCGA_CS_4943_20000902/TCGA_CS_4943_20000902_1_mask.tif</td>\n",
       "      <td>0</td>\n",
       "    </tr>\n",
       "    <tr>\n",
       "      <th>3</th>\n",
       "      <td>Dataset\\TCGA_CS_4944_20010208/TCGA_CS_4944_20010208_1.tif</td>\n",
       "      <td>Dataset\\TCGA_CS_4944_20010208/TCGA_CS_4944_20010208_1_mask.tif</td>\n",
       "      <td>0</td>\n",
       "    </tr>\n",
       "    <tr>\n",
       "      <th>4</th>\n",
       "      <td>Dataset\\TCGA_CS_5393_19990606/TCGA_CS_5393_19990606_1.tif</td>\n",
       "      <td>Dataset\\TCGA_CS_5393_19990606/TCGA_CS_5393_19990606_1_mask.tif</td>\n",
       "      <td>0</td>\n",
       "    </tr>\n",
       "  </tbody>\n",
       "</table>\n",
       "</div>"
      ],
      "text/plain": [
       "                                                  image_path  \\\n",
       "0  Dataset\\TCGA_CS_4941_19960909/TCGA_CS_4941_19960909_1.tif   \n",
       "1  Dataset\\TCGA_CS_4942_19970222/TCGA_CS_4942_19970222_1.tif   \n",
       "2  Dataset\\TCGA_CS_4943_20000902/TCGA_CS_4943_20000902_1.tif   \n",
       "3  Dataset\\TCGA_CS_4944_20010208/TCGA_CS_4944_20010208_1.tif   \n",
       "4  Dataset\\TCGA_CS_5393_19990606/TCGA_CS_5393_19990606_1.tif   \n",
       "\n",
       "                                                        mask_path  diagnosis  \n",
       "0  Dataset\\TCGA_CS_4941_19960909/TCGA_CS_4941_19960909_1_mask.tif          0  \n",
       "1  Dataset\\TCGA_CS_4942_19970222/TCGA_CS_4942_19970222_1_mask.tif          0  \n",
       "2  Dataset\\TCGA_CS_4943_20000902/TCGA_CS_4943_20000902_1_mask.tif          0  \n",
       "3  Dataset\\TCGA_CS_4944_20010208/TCGA_CS_4944_20010208_1_mask.tif          0  \n",
       "4  Dataset\\TCGA_CS_5393_19990606/TCGA_CS_5393_19990606_1_mask.tif          0  "
      ]
     },
     "execution_count": 7,
     "metadata": {},
     "output_type": "execute_result"
    }
   ],
   "source": [
    "def diagnosis(mask):\n",
    "    x = np.max(cv2.imread(mask))\n",
    "    if x > 0: return 1\n",
    "    else: return 0\n",
    "    \n",
    "df[\"diagnosis\"] = df[\"mask_path\"].apply(lambda x: diagnosis(x))\n",
    "\n",
    "df.head()"
   ]
  },
  {
   "cell_type": "code",
   "execution_count": 8,
   "id": "41e21a14",
   "metadata": {},
   "outputs": [
    {
     "name": "stdout",
     "output_type": "stream",
     "text": [
      "The number of patients with abnormally tumors:\n",
      "Positives: 1373 \n",
      "Negatives: 2556\n"
     ]
    }
   ],
   "source": [
    "x = df.diagnosis.value_counts()\n",
    "positives = x[1] \n",
    "negatives = x[0]\n",
    "print('The number of patients with abnormally tumors:')\n",
    "print(f\"Positives: {positives} \\nNegatives: {negatives}\")"
   ]
  },
  {
   "cell_type": "markdown",
   "id": "efffe86f",
   "metadata": {},
   "source": [
    "# Data Augmentation"
   ]
  },
  {
   "cell_type": "code",
   "execution_count": 9,
   "id": "5aa59e61",
   "metadata": {},
   "outputs": [],
   "source": [
    "import torch\n",
    "from torch import nn\n",
    "import torch.nn.functional as F\n",
    "from torch.utils.data import Dataset, DataLoader\n",
    "\n",
    "import albumentations as A\n",
    "from albumentations.pytorch.transforms import ToTensor, ToTensorV2\n",
    "\n",
    "from sklearn.model_selection import train_test_split"
   ]
  },
  {
   "cell_type": "code",
   "execution_count": 10,
   "id": "a688e5ea",
   "metadata": {},
   "outputs": [],
   "source": [
    "device = torch.device('cuda' if torch.cuda.is_available() else 'cpu')"
   ]
  },
  {
   "cell_type": "code",
   "execution_count": 21,
   "id": "0d7086da",
   "metadata": {},
   "outputs": [],
   "source": [
    "class BrainMriDataset(Dataset):\n",
    "    def __init__(self, df, transforms):\n",
    "        self.df = df\n",
    "        self.transforms = transforms\n",
    "        \n",
    "    def __len__(self):\n",
    "        return len(self.df)\n",
    "    \n",
    "    def __getitem__(self, idx):\n",
    "#         image = cv2.imread(self.df.iloc[idx, 0])\n",
    "#         mask = cv2.imread(self.df.iloc[idx, 1], 0)\n",
    "\n",
    "#         augmented = self.transforms(image=image, mask=mask)\n",
    " \n",
    "#         image = augmented['image']\n",
    "#         mask = augmented['mask']   \n",
    "\n",
    "        row = self.df.iloc[idx]\n",
    "\n",
    "        image = cv2.imread(row.image_path)\n",
    "        image = cv2.cvtColor(image, cv2.COLOR_BGR2RGB)\n",
    "\n",
    "        mask = cv2.imread(row.mask_path)\n",
    "\n",
    "        if self.transforms:\n",
    "            data = self.transforms(image = image, mask = mask)\n",
    "            image = data['image']\n",
    "            mask = data['mask']\n",
    "\n",
    "        # (h, w, c) -> (c, h, w)\n",
    "        image = np.transpose(image, (2, 0, 1)).astype(np.float32)\n",
    "        mask = np.transpose(mask, (2, 0, 1)).astype(np.float32)\n",
    "\n",
    "        image = torch.Tensor(image) / 255.\n",
    "        mask = torch.round(torch.Tensor(mask) / 255.)\n",
    "        \n",
    "        return image, mask"
   ]
  },
  {
   "cell_type": "code",
   "execution_count": 48,
   "id": "84d4f127",
   "metadata": {},
   "outputs": [],
   "source": [
    "PATCH_SIZE = 128#256\n",
    "\n",
    "strong_transforms = A.Compose([\n",
    "    A.RandomResizedCrop(width = IMG_SIZE, height = IMG_SIZE, p=1.0),\n",
    "    A.HorizontalFlip(p=0.5),\n",
    "    A.VerticalFlip(p=0.5),\n",
    "    A.RandomRotate90(p=0.5),\n",
    "    A.Transpose(p=0.5),\n",
    "    A.ShiftScaleRotate(shift_limit=0.01, scale_limit=0.04, rotate_limit=0, p=0.25),\n",
    "    \n",
    "    # Pixels\n",
    "    A.RandomBrightnessContrast(p=0.5),\n",
    "    A.RandomGamma(p=0.25),\n",
    "#     A.IAAEmboss(p=0.25),\n",
    "    A.Blur(p=0.01, blur_limit = 3),\n",
    "    \n",
    "    # Affine\n",
    "    A.OneOf([\n",
    "        A.ElasticTransform(p=0.5, alpha=120, sigma=120 * 0.05, alpha_affine=120 * 0.03),\n",
    "        A.GridDistortion(p=0.5),\n",
    "        A.OpticalDistortion(p=1, distort_limit=2, shift_limit=0.5)                  \n",
    "    ], p=0.8),\n",
    "    \n",
    "    \n",
    "#     A.Normalize(p=1.0),\n",
    "    #https://albumentations.readthedocs.io/en/latest/api/pytorch.html?highlight=ToTensor#albumentations.pytorch.transforms.ToTensor\n",
    "#     ToTensor(),\n",
    "])\n",
    "\n",
    "transforms = A.Compose([\n",
    "    A.Resize(width = IMG_SIZE, height = IMG_SIZE, p=1.0),\n",
    "    A.HorizontalFlip(p=0.5),\n",
    "    A.VerticalFlip(p=0.5),\n",
    "    A.RandomRotate90(p=0.5),\n",
    "    A.Transpose(p=0.5),\n",
    "    A.ShiftScaleRotate(shift_limit=0.01, scale_limit=0.04, rotate_limit=0, p=0.25),\n",
    "\n",
    "    \n",
    "    \n",
    "#     A.Normalize(p=1.0),\n",
    "#     ToTensor(),\n",
    "])\n",
    "\n",
    "tt = A.Compose([\n",
    "        A.Resize(IMG_SIZE, IMG_SIZE),\n",
    "        A.HorizontalFlip(p=0.5),\n",
    "        A.VerticalFlip(p=0.5),\n",
    "        A.RandomBrightnessContrast(p=0.5),\n",
    "        A.Blur(p=0.5, blur_limit = 3)\n",
    "    ], is_check_shapes=False)"
   ]
  },
  {
   "cell_type": "code",
   "execution_count": 14,
   "id": "25b2a841",
   "metadata": {},
   "outputs": [
    {
     "name": "stdout",
     "output_type": "stream",
     "text": [
      "Train: (3005, 3) \n",
      "Val: (393, 3) \n",
      "Test: (531, 3)\n"
     ]
    }
   ],
   "source": [
    "# Split df into train_df and val_df\n",
    "train_df, val_df = train_test_split(df, stratify=df.diagnosis, test_size=0.1)\n",
    "train_df = train_df.reset_index(drop=True)\n",
    "val_df = val_df.reset_index(drop=True)\n",
    "\n",
    "# Split train_df into train_df and test_df\n",
    "train_df, test_df = train_test_split(train_df, stratify=train_df.diagnosis, test_size=0.15)\n",
    "train_df = train_df.reset_index(drop=True)\n",
    "\n",
    "print(f\"Train: {train_df.shape} \\nVal: {val_df.shape} \\nTest: {test_df.shape}\")"
   ]
  },
  {
   "cell_type": "code",
   "execution_count": 51,
   "id": "e7b53070",
   "metadata": {},
   "outputs": [],
   "source": [
    "# train\n",
    "train_dataset = BrainMriDataset(df=train_df, transforms=strong_transforms)\n",
    "train_dataloader = DataLoader(train_dataset, batch_size=26, num_workers=4, shuffle=True)\n",
    "\n",
    "# val\n",
    "val_dataset = BrainMriDataset(df=val_df, transforms=strong_transforms)\n",
    "val_dataloader = DataLoader(val_dataset, batch_size=26, num_workers=4, shuffle=True)\n",
    "\n",
    "#test\n",
    "test_dataset = BrainMriDataset(df=test_df, transforms=strong_transforms)\n",
    "test_dataloader = DataLoader(test_dataset, batch_size=26, num_workers=4, shuffle=True)"
   ]
  },
  {
   "cell_type": "code",
   "execution_count": 16,
   "id": "89ed7bb8",
   "metadata": {},
   "outputs": [],
   "source": [
    "def show_image(image,mask,pred_image = None):\n",
    "    \n",
    "    if pred_image == None:\n",
    "        \n",
    "        f, (ax1, ax2) = plt.subplots(1, 2, figsize=(10,5))\n",
    "        \n",
    "        ax1.set_title('IMAGE')\n",
    "        ax1.imshow(image.permute(1,2,0).squeeze(),cmap = 'gray')\n",
    "        \n",
    "        ax2.set_title('MASK')\n",
    "        ax2.imshow(mask.permute(1,2,0).squeeze(),cmap = 'gray')\n",
    "        \n",
    "    elif pred_image != None :\n",
    "        \n",
    "        f, (ax1, ax2,ax3) = plt.subplots(1, 3, figsize=(10,5))\n",
    "        \n",
    "        ax1.set_title('IMAGE')\n",
    "        ax1.imshow(image.permute(1,2,0).squeeze(),cmap = 'gray')\n",
    "        \n",
    "        ax2.set_title('MASK')\n",
    "        ax2.imshow(mask.permute(1,2,0).squeeze(),cmap = 'gray')\n",
    "        \n",
    "        ax3.set_title('MODEL OUTPUT')\n",
    "        ax3.imshow(pred_image.permute(1,2,0).squeeze(),cmap = 'gray')"
   ]
  },
  {
   "cell_type": "code",
   "execution_count": 52,
   "id": "dcd2d0b4",
   "metadata": {},
   "outputs": [
    {
     "name": "stderr",
     "output_type": "stream",
     "text": [
      "Clipping input data to the valid range for imshow with RGB data ([0..1] for floats or [0..255] for integers).\n"
     ]
    },
    {
     "data": {
      "image/png": "[encoded data removed]",
      "text/plain": [
       "<Figure size 720x360 with 2 Axes>"
      ]
     },
     "metadata": {
      "needs_background": "light"
     },
     "output_type": "display_data"
    }
   ],
   "source": [
    "index = 7\n",
    "image, mask = train_dataset[index]\n",
    "show_image(image, mask)"
   ]
  },
  {
   "cell_type": "code",
   "execution_count": null,
   "id": "a6c6c1c8",
   "metadata": {},
   "outputs": [],
   "source": [
    "image, mask = next(iter(train_dataloader))\n",
    "print(f\"One batch image shape : {image.shape}\")\n",
    "print(f\"One batch mask shape : {mask.shape}\")"
   ]
  },
  {
   "cell_type": "code",
   "execution_count": null,
   "id": "e7a4ce81",
   "metadata": {},
   "outputs": [],
   "source": []
  }
 ],
 "metadata": {
  "kernelspec": {
   "display_name": "Python 3 (ipykernel)",
   "language": "python",
   "name": "python3"
  },
  "language_info": {
   "codemirror_mode": {
    "name": "ipython",
    "version": 3
   },
   "file_extension": ".py",
   "mimetype": "text/x-python",
   "name": "python",
   "nbconvert_exporter": "python",
   "pygments_lexer": "ipython3",
   "version": "3.9.12"
  }
 },
 "nbformat": 4,
 "nbformat_minor": 5
}
